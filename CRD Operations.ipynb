{
 "cells": [
  {
   "cell_type": "markdown",
   "metadata": {},
   "source": [
    "# Key-value data store"
   ]
  },
  {
   "cell_type": "markdown",
   "metadata": {},
   "source": [
    "1. importing necessary things\n",
    "- redis for inerting, reading and deleting records\n",
    "- pickle converts python dictionary to json\n",
    "- json used to deal with its object\n",
    "- os for saving and deleting files\n",
    "\n",
    "2. and connecting to localhost"
   ]
  },
  {
   "cell_type": "code",
   "execution_count": 1,
   "metadata": {},
   "outputs": [],
   "source": [
    "import redis\n",
    "import pickle\n",
    "import json\n",
    "import os\n",
    "\n",
    "r = redis.Redis(\"localhost\")"
   ]
  },
  {
   "cell_type": "raw",
   "metadata": {},
   "source": [
    "inserting record to database\n",
    "    - key: key for redis record\n",
    "    - value: dictionary object\n",
    "    - ttl: Time-To-Live for redis record\n",
    "    - expiry: validity of redis record if ttl is false this parameter will not be used\n",
    "\n",
    "If key is not present then inserting it with ttl(expiry) otherwise givev error message\n",
    "\n",
    "Along with inserting record it will create json file in current directory with value as content and key as file name iff ttl is false"
   ]
  },
  {
   "cell_type": "code",
   "execution_count": 2,
   "metadata": {},
   "outputs": [],
   "source": [
    "def create(key, value, ttl, expiry):\n",
    "    val = r.get(key) # if val is not None record with provided key already exists, hence will not overwrite it\n",
    "    if(val==None):\n",
    "        p_value = pickle.dumps(value)\n",
    "        if(ttl==True):\n",
    "            r.set(key, p_value, ex=expiry)\n",
    "        else:\n",
    "            r.set(key, p_value)\n",
    "            # saving json object as file content and key as file name if ttl is False\n",
    "            file_name = key+'.json'\n",
    "            with open(file_name, 'w') as json_file:\n",
    "                json.dump(value, json_file)\n",
    "    else:\n",
    "        print('Key already exists')"
   ]
  },
  {
   "cell_type": "raw",
   "metadata": {},
   "source": [
    "Finds key record"
   ]
  },
  {
   "cell_type": "code",
   "execution_count": 3,
   "metadata": {},
   "outputs": [],
   "source": [
    "def read(key):\n",
    "    return r.get(key)"
   ]
  },
  {
   "cell_type": "raw",
   "metadata": {},
   "source": [
    "deleting record with specified key\n",
    "    - if record not found returns False \n",
    "    - else returns true after removing record from database (json file still exists)"
   ]
  },
  {
   "cell_type": "code",
   "execution_count": 4,
   "metadata": {},
   "outputs": [],
   "source": [
    "def delete(key):\n",
    "    value = r.get(key)\n",
    "    if(value==None):\n",
    "        return False\n",
    "    else:\n",
    "        p_value = pickle.loads(value)\n",
    "        r.delete(key)\n",
    "        return True"
   ]
  },
  {
   "cell_type": "raw",
   "metadata": {},
   "source": [
    "Checking remainnig time for perticular record (key-value pair)\n",
    "    - returns time in seconds"
   ]
  },
  {
   "cell_type": "code",
   "execution_count": 5,
   "metadata": {},
   "outputs": [],
   "source": [
    "def validity(key):\n",
    "    return r.ttl(key)"
   ]
  },
  {
   "cell_type": "markdown",
   "metadata": {},
   "source": [
    "### Insert record in database"
   ]
  },
  {
   "cell_type": "code",
   "execution_count": 33,
   "metadata": {},
   "outputs": [
    {
     "name": "stdout",
     "output_type": "stream",
     "text": [
      "Enter key: \n",
      "qwe\n",
      "Enter number of attributes: \n",
      "0\n",
      "Key supports TTL? y/n\n",
      "y\n",
      "Enter validity in seconds\n",
      "30\n"
     ]
    }
   ],
   "source": [
    "print('Enter key: ')\n",
    "key = input()\n",
    "\n",
    "print('Enter number of attributes: ') # specify nu/mber of attributes for json file\n",
    "n = int(input())\n",
    "\n",
    "value = {}\n",
    "# for each attributes: take attribute name and its value\n",
    "for i in range(n):\n",
    "    print('Enter attribute name: ')\n",
    "    attribute = input()\n",
    "    print('Enter attribute value: ')\n",
    "    val = input()\n",
    "    value.update({attribute : val})\n",
    "# value is python dictionary that will be converted in json object\n",
    "\n",
    "print('Key supports TTL? y/n') # ttl should have value 'y' or 'n'\n",
    "ttl = input()\n",
    "\n",
    "if(ttl=='y'):\n",
    "    print('Enter validity in seconds')\n",
    "    expiry = input()\n",
    "    create(key, value, True, expiry)\n",
    "elif(ttl=='n'):\n",
    "    create(key, value, False, -1)"
   ]
  },
  {
   "cell_type": "markdown",
   "metadata": {},
   "source": [
    "### Search for a key"
   ]
  },
  {
   "cell_type": "code",
   "execution_count": 34,
   "metadata": {},
   "outputs": [
    {
     "name": "stdout",
     "output_type": "stream",
     "text": [
      "Enter key to search: \n",
      "qwe\n",
      "{}\n"
     ]
    }
   ],
   "source": [
    "print('Enter key to search: ')\n",
    "key = input()\n",
    "\n",
    "value = read(key)\n",
    "\n",
    "if(value==None):\n",
    "    print('Key not exists')\n",
    "else:\n",
    "    p_value = pickle.loads(value)\n",
    "    print(p_value)"
   ]
  },
  {
   "cell_type": "markdown",
   "metadata": {},
   "source": [
    "### Delete record"
   ]
  },
  {
   "cell_type": "code",
   "execution_count": 36,
   "metadata": {},
   "outputs": [
    {
     "name": "stdout",
     "output_type": "stream",
     "text": [
      "Enter key of object to delete it: \n",
      "qwe\n",
      "Record removed\n"
     ]
    }
   ],
   "source": [
    "print('Enter key of object to delete it: ')\n",
    "key = input()\n",
    "\n",
    "status = delete(key) # if provided key exists delete() will return True otherwise False\n",
    "\n",
    "if(status==True):\n",
    "    file_name = key+'.json' # retreiving file name\n",
    "    # necessary while trying delete file of ttl redis record\n",
    "    if(os.path.isfile(file_name)):\n",
    "        os.remove(file_name) # deleting json file\n",
    "    print('Record removed')\n",
    "else:\n",
    "    print('Record/Key not found')"
   ]
  },
  {
   "cell_type": "markdown",
   "metadata": {},
   "source": [
    "### Check time remaining for key"
   ]
  },
  {
   "cell_type": "code",
   "execution_count": 37,
   "metadata": {},
   "outputs": [
    {
     "name": "stdout",
     "output_type": "stream",
     "text": [
      "Enter key check validity of key: \n",
      "qwe\n",
      "qwe does not exists\n"
     ]
    }
   ],
   "source": [
    "print('Enter key check validity of key: ')\n",
    "key = input()\n",
    "\n",
    "seconds = validity(key)\n",
    "if(seconds==-1):\n",
    "    print(f\"{key} does not have expiry timeout\")\n",
    "elif(seconds==-2):\n",
    "    print(f\"{key} does not exists\")\n",
    "else:\n",
    "    print(f\"{seconds}s\")"
   ]
  },
  {
   "cell_type": "markdown",
   "metadata": {},
   "source": [
    "Save database"
   ]
  },
  {
   "cell_type": "code",
   "execution_count": null,
   "metadata": {},
   "outputs": [],
   "source": [
    "print(r.bgsave)"
   ]
  },
  {
   "cell_type": "markdown",
   "metadata": {},
   "source": [
    "## Critical zone"
   ]
  },
  {
   "cell_type": "raw",
   "metadata": {},
   "source": [
    "Below cell will remove all the records and json files as well!"
   ]
  },
  {
   "cell_type": "code",
   "execution_count": null,
   "metadata": {},
   "outputs": [],
   "source": [
    "print('Are you sure you want to flush all? y/n')\n",
    "choice = input()\n",
    "\n",
    "if(choice=='y'):\n",
    "    r.flushdb()\n",
    "    current_directory = os.getcwd() # because all json files are saved in current directory \n",
    "    for f in os.listdir(current_directory):\n",
    "        # other files should not be deleted\n",
    "        if not f.endswith(\".json\"):\n",
    "            continue\n",
    "        os.remove(os.path.join(current_directory, f))\n",
    "    print('Data cleared')\n",
    "else:\n",
    "    print('Action undone')"
   ]
  },
  {
   "cell_type": "code",
   "execution_count": null,
   "metadata": {},
   "outputs": [],
   "source": []
  }
 ],
 "metadata": {
  "kernelspec": {
   "display_name": "Python 3",
   "language": "python",
   "name": "python3"
  },
  "language_info": {
   "codemirror_mode": {
    "name": "ipython",
    "version": 3
   },
   "file_extension": ".py",
   "mimetype": "text/x-python",
   "name": "python",
   "nbconvert_exporter": "python",
   "pygments_lexer": "ipython3",
   "version": "3.7.6"
  }
 },
 "nbformat": 4,
 "nbformat_minor": 4
}
